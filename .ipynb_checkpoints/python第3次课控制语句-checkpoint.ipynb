{
 "cells": [
  {
   "cell_type": "code",
   "execution_count": null,
   "id": "cf3572c9",
   "metadata": {},
   "outputs": [],
   "source": [
    "复习：\n",
    "二进制原码、反码、补码、移码\n",
    "UTF-8编码规则，通过运算符>> << & ^，获取UTF-8的Unicode部分"
   ]
  },
  {
   "cell_type": "markdown",
   "id": "7d4ffc75",
   "metadata": {},
   "source": [
    "### 控制语句"
   ]
  },
  {
   "cell_type": "code",
   "execution_count": null,
   "id": "0033889b",
   "metadata": {},
   "outputs": [],
   "source": [
    "if else"
   ]
  },
  {
   "cell_type": "code",
   "execution_count": 1,
   "id": "3aeae329",
   "metadata": {},
   "outputs": [],
   "source": [
    "# 了解input函数、eval函数"
   ]
  },
  {
   "cell_type": "code",
   "execution_count": 2,
   "id": "af9a530a",
   "metadata": {},
   "outputs": [
    {
     "name": "stdout",
     "output_type": "stream",
     "text": [
      "轻输入一个字符串:hello\n"
     ]
    }
   ],
   "source": [
    "s = input(\"轻输入一个字符串:\")"
   ]
  },
  {
   "cell_type": "code",
   "execution_count": 3,
   "id": "9cb0e459",
   "metadata": {},
   "outputs": [
    {
     "name": "stdout",
     "output_type": "stream",
     "text": [
      "hello\n"
     ]
    }
   ],
   "source": [
    "print(s)"
   ]
  },
  {
   "cell_type": "code",
   "execution_count": 6,
   "id": "3141c801",
   "metadata": {},
   "outputs": [
    {
     "name": "stdout",
     "output_type": "stream",
     "text": [
      "请输入一个内容为数字的字符串:12.5\n",
      "<class 'str'> 12.5\n"
     ]
    }
   ],
   "source": [
    "numberstr = input(\"请输入一个内容为数字的字符串:\")\n",
    "print(type(numberstr), numberstr)"
   ]
  },
  {
   "cell_type": "code",
   "execution_count": 18,
   "id": "36fa3bbc",
   "metadata": {},
   "outputs": [
    {
     "name": "stdout",
     "output_type": "stream",
     "text": [
      "12.5 <class 'float'>\n"
     ]
    }
   ],
   "source": [
    "number = eval(numberstr)\n",
    "print(number, type(number))"
   ]
  },
  {
   "cell_type": "code",
   "execution_count": null,
   "id": "07c855e9",
   "metadata": {},
   "outputs": [],
   "source": [
    "# 判断字符串内容是不是整数"
   ]
  },
  {
   "cell_type": "code",
   "execution_count": 13,
   "id": "26fb113d",
   "metadata": {},
   "outputs": [
    {
     "name": "stdout",
     "output_type": "stream",
     "text": [
      "True\n"
     ]
    }
   ],
   "source": [
    "s = \"12\"\n",
    "print(s.isdigit())"
   ]
  },
  {
   "cell_type": "code",
   "execution_count": 14,
   "id": "a7ecc98d",
   "metadata": {},
   "outputs": [
    {
     "name": "stdout",
     "output_type": "stream",
     "text": [
      "True\n"
     ]
    }
   ],
   "source": [
    "print(s.isalnum())"
   ]
  },
  {
   "cell_type": "code",
   "execution_count": 15,
   "id": "25f78bb4",
   "metadata": {},
   "outputs": [
    {
     "name": "stdout",
     "output_type": "stream",
     "text": [
      "True\n"
     ]
    }
   ],
   "source": [
    "print(s.isnumeric())"
   ]
  },
  {
   "cell_type": "code",
   "execution_count": 16,
   "id": "60b94b91",
   "metadata": {},
   "outputs": [
    {
     "name": "stdout",
     "output_type": "stream",
     "text": [
      "True\n"
     ]
    }
   ],
   "source": [
    "print(s.isdecimal())"
   ]
  },
  {
   "cell_type": "code",
   "execution_count": 21,
   "id": "e32709de",
   "metadata": {},
   "outputs": [
    {
     "name": "stdout",
     "output_type": "stream",
     "text": [
      "True\n"
     ]
    }
   ],
   "source": [
    "print(s.isascii())"
   ]
  },
  {
   "cell_type": "code",
   "execution_count": 23,
   "id": "f7320013",
   "metadata": {},
   "outputs": [
    {
     "name": "stdout",
     "output_type": "stream",
     "text": [
      "1 登录\n",
      "2 注册\n",
      "3 退出\n",
      "请输入一个数字:4.5\n",
      "sb\n"
     ]
    }
   ],
   "source": [
    "# if语句\n",
    "print(\"1 登录\")\n",
    "print(\"2 注册\")\n",
    "print(\"3 退出\")\n",
    "s = input('请输入一个数字:')\n",
    "# 判断是否输入的是 1 2 3 \n",
    "# 如果不是，提示用户\n",
    "if not s.isdigit():\n",
    "    print(\"sb\")"
   ]
  },
  {
   "cell_type": "code",
   "execution_count": 20,
   "id": "06c427e5",
   "metadata": {},
   "outputs": [
    {
     "name": "stdout",
     "output_type": "stream",
     "text": [
      "输入账号:zhangsan\n",
      "输入密码:123456\n",
      "zhangsan 123456\n",
      "登录成功\n"
     ]
    }
   ],
   "source": [
    "# dos登录程序 version 1.0\n"
   ]
  },
  {
   "cell_type": "code",
   "execution_count": null,
   "id": "2b986ff6",
   "metadata": {},
   "outputs": [],
   "source": [
    "# 保密输入：\n",
    "from pwinput import pwinput\n",
    "pwd = pwinput(mask=\"*\")"
   ]
  },
  {
   "cell_type": "code",
   "execution_count": 8,
   "id": "2c4272df",
   "metadata": {},
   "outputs": [
    {
     "data": {
      "text/plain": [
       "'e10adc3949ba59abbe56e057f20f883e'"
      ]
     },
     "execution_count": 8,
     "metadata": {},
     "output_type": "execute_result"
    }
   ],
   "source": [
    "# 加密\n",
    "import hashlib\n",
    "def jiami(pwd):\n",
    "    return hashlib.md5(pwd.encode()).hexdigest()\n",
    "jiami('123456')"
   ]
  },
  {
   "cell_type": "code",
   "execution_count": null,
   "id": "b303f21d",
   "metadata": {},
   "outputs": [],
   "source": [
    "作业:\n",
    "1 完善登录功能，了解todo列表"
   ]
  },
  {
   "cell_type": "code",
   "execution_count": null,
   "id": "d1dbf351",
   "metadata": {},
   "outputs": [],
   "source": [
    "# if语句\n",
    "print(\"1 登录\")\n",
    "print(\"2 注册\")\n",
    "print(\"3 退出\")\n",
    "s = input('请输入一个数字:')\n",
    "# todo 判断是否输入的是 1 2 3 如果不是，提示用户\n",
    "\n",
    "# 如果用户输入的是1，走下面的登录流程\n",
    "user = \"zhangsan\"\n",
    "\n",
    "# todo 密码要加密存储\n",
    "pwd = \"123456\"\n",
    "\n",
    "user_input = input(\"输入账号:\")\n",
    "# todo 输入的密码不能显示出来，用.号代替\n",
    "pwd_input = input(\"输入密码:\")\n",
    "print(user,pwd)\n",
    "\n",
    "# 如果账号密码输入正确，登录成功，退出程序。\n",
    "if user_input.__eq__(user) and pwd_input.__eq__(pwd):\n",
    "    print('登录成功')\n",
    "\n",
    "# todo 如果账号密码输入错误，登录失败，退出程序。\n"
   ]
  }
 ],
 "metadata": {
  "kernelspec": {
   "display_name": "Python 3 (ipykernel)",
   "language": "python",
   "name": "python3"
  },
  "language_info": {
   "codemirror_mode": {
    "name": "ipython",
    "version": 3
   },
   "file_extension": ".py",
   "mimetype": "text/x-python",
   "name": "python",
   "nbconvert_exporter": "python",
   "pygments_lexer": "ipython3",
   "version": "3.9.13"
  }
 },
 "nbformat": 4,
 "nbformat_minor": 5
}
