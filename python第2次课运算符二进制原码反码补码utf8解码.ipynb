{
 "cells": [
  {
   "cell_type": "code",
   "execution_count": 2,
   "id": "a1a1ce09",
   "metadata": {},
   "outputs": [],
   "source": [
    "# 复习"
   ]
  },
  {
   "cell_type": "code",
   "execution_count": 8,
   "id": "1e2a6f9c",
   "metadata": {},
   "outputs": [
    {
     "name": "stdout",
     "output_type": "stream",
     "text": [
      "hello world\n"
     ]
    }
   ],
   "source": [
    "print(\"hello world\")"
   ]
  },
  {
   "cell_type": "code",
   "execution_count": 9,
   "id": "cdcfbe9b",
   "metadata": {},
   "outputs": [],
   "source": [
    "# 变量和常量"
   ]
  },
  {
   "cell_type": "code",
   "execution_count": 16,
   "id": "ce9a7bd3",
   "metadata": {},
   "outputs": [],
   "source": [
    "a = 2\n",
    "b = 2.5\n",
    "c = 'hello'"
   ]
  },
  {
   "cell_type": "code",
   "execution_count": 17,
   "id": "64ca2f92",
   "metadata": {},
   "outputs": [
    {
     "name": "stdout",
     "output_type": "stream",
     "text": [
      "<class 'int'> <class 'float'> <class 'str'>\n"
     ]
    }
   ],
   "source": [
    "print(type(a), type(b), type(c))"
   ]
  },
  {
   "cell_type": "code",
   "execution_count": 18,
   "id": "680bda29",
   "metadata": {},
   "outputs": [
    {
     "name": "stdout",
     "output_type": "stream",
     "text": [
      "4.5\n",
      "5.0\n",
      "2hello\n"
     ]
    }
   ],
   "source": [
    "# +-*/\n",
    "print(a+b)\n",
    "print(a*b)\n",
    "print(str(a)+c)"
   ]
  },
  {
   "cell_type": "code",
   "execution_count": 23,
   "id": "cfa24bf6",
   "metadata": {},
   "outputs": [
    {
     "name": "stdout",
     "output_type": "stream",
     "text": [
      "hellohello\n"
     ]
    }
   ],
   "source": [
    "# 正整数数乘以字符串\n",
    "print(a*c)"
   ]
  },
  {
   "cell_type": "code",
   "execution_count": 24,
   "id": "313d366b",
   "metadata": {},
   "outputs": [],
   "source": [
    "# 数据类型转换 "
   ]
  },
  {
   "cell_type": "code",
   "execution_count": 26,
   "id": "c0442e79",
   "metadata": {},
   "outputs": [
    {
     "name": "stdout",
     "output_type": "stream",
     "text": [
      "97\n"
     ]
    }
   ],
   "source": [
    "print(ord('a'))"
   ]
  },
  {
   "cell_type": "code",
   "execution_count": 34,
   "id": "928f7020",
   "metadata": {},
   "outputs": [
    {
     "name": "stdout",
     "output_type": "stream",
     "text": [
      "125\n"
     ]
    }
   ],
   "source": [
    "print(int(\"125\"))"
   ]
  },
  {
   "cell_type": "code",
   "execution_count": 37,
   "id": "d7dcde41",
   "metadata": {},
   "outputs": [
    {
     "name": "stdout",
     "output_type": "stream",
     "text": [
      "a\n"
     ]
    }
   ],
   "source": [
    "print(chr(97))"
   ]
  },
  {
   "cell_type": "markdown",
   "id": "b691f837",
   "metadata": {},
   "source": [
    "### 代码演示"
   ]
  },
  {
   "cell_type": "code",
   "execution_count": 39,
   "id": "7ecb03ed",
   "metadata": {},
   "outputs": [
    {
     "name": "stdout",
     "output_type": "stream",
     "text": [
      "5\n"
     ]
    }
   ],
   "source": [
    "# 为什么要关注数据类型呢？因为编程的套路是：从一个已知的数据类型，得到一个新的数据类型，再从这个新的数据类型\n",
    "# 得到下一个新的数据类型，直到得到想要的数据为止，比如 从\"5hello\"中得到第一个字符5，并转换成int型5\n",
    "a = \"5hello\"\n",
    "b = a[0]\n",
    "c = int(b)\n",
    "print(c)"
   ]
  },
  {
   "cell_type": "raw",
   "id": "d6dce5c5",
   "metadata": {},
   "source": [
    "#再比如，从1.txt文件中读取数据，得到每个学生的name,age,sex.求学生的人数、所有学生age的平均值、所有姓李的学生\n",
    "#人工统计这些信息，能完成，但是效率很低。\n",
    "\n",
    "\"\"\"\n",
    "1.txt内容如下:\n",
    "name,age,sex\n",
    "jack,19,男\n",
    "李雷,20,男\n",
    "韩梅梅,17,女\n",
    "李丽,19,女\n",
    "\"\"\""
   ]
  },
  {
   "cell_type": "code",
   "execution_count": null,
   "id": "3c4cb461",
   "metadata": {},
   "outputs": [],
   "source": []
  },
  {
   "cell_type": "markdown",
   "id": "e6f530f4",
   "metadata": {},
   "source": [
    "## 新内容 \n",
    "### 其它运算符 ** // >> <<  & ^ , 进制(10,2,8,16介绍,相互转换的方法)\n",
    "### 二进制的原码、反码、补码、(移码)\n",
    "### utf-8解码成unicode码"
   ]
  },
  {
   "cell_type": "code",
   "execution_count": 48,
   "id": "eb81092c",
   "metadata": {},
   "outputs": [],
   "source": [
    "# 讲解** // >> << & ^"
   ]
  },
  {
   "cell_type": "code",
   "execution_count": null,
   "id": "da17a966",
   "metadata": {},
   "outputs": [],
   "source": [
    "# 讲解进制转换"
   ]
  },
  {
   "cell_type": "code",
   "execution_count": 44,
   "id": "9fb9053f",
   "metadata": {},
   "outputs": [
    {
     "name": "stdout",
     "output_type": "stream",
     "text": [
      "25105\n"
     ]
    }
   ],
   "source": [
    "# python 2、8、16进制表示\n",
    "a = 0b110001000010001\n",
    "print(a)"
   ]
  },
  {
   "cell_type": "code",
   "execution_count": 49,
   "id": "704ffb6b",
   "metadata": {},
   "outputs": [
    {
     "name": "stdout",
     "output_type": "stream",
     "text": [
      "1\n"
     ]
    }
   ],
   "source": [
    "a = 0b00000001\n",
    "print(a)"
   ]
  },
  {
   "cell_type": "code",
   "execution_count": 54,
   "id": "b0a635ee",
   "metadata": {},
   "outputs": [
    {
     "name": "stdout",
     "output_type": "stream",
     "text": [
      "15\n"
     ]
    }
   ],
   "source": [
    "print(0o00000017)"
   ]
  },
  {
   "cell_type": "code",
   "execution_count": 58,
   "id": "c7730358",
   "metadata": {},
   "outputs": [
    {
     "name": "stdout",
     "output_type": "stream",
     "text": [
      "15\n"
     ]
    }
   ],
   "source": [
    "print(0x0000000f)"
   ]
  },
  {
   "cell_type": "code",
   "execution_count": 57,
   "id": "b4ea63e9",
   "metadata": {},
   "outputs": [
    {
     "name": "stdout",
     "output_type": "stream",
     "text": [
      "287\n"
     ]
    }
   ],
   "source": [
    "print(0x0000011f) # 11f为什么是287? 讲解转换方法"
   ]
  },
  {
   "cell_type": "code",
   "execution_count": null,
   "id": "33abda1f",
   "metadata": {},
   "outputs": [],
   "source": []
  },
  {
   "cell_type": "code",
   "execution_count": null,
   "id": "319674a6",
   "metadata": {},
   "outputs": [],
   "source": [
    "原码、反码、补码、移码\n",
    "\n",
    "一、原码\n",
    "\n",
    "原码就是符号位加上真值的绝对值, 即用第一位表示符号, 其余位表示值.\n",
    "\n",
    "符号位：\n",
    "\n",
    "0表示+\n",
    "\n",
    "1表示-\n",
    "\n",
    "8位二进制:\n",
    "\n",
    "[+1]原 = 0000 0001\n",
    "\n",
    "[-1]原 = 1000 0001\n",
    "\n",
    "二、反码\n",
    "\n",
    "反码的表示方法是：正数的反码是其本身；负数的反码是在其原码的基础上, 符号位不变，其余各个位取反。\n",
    "\n",
    "[+1] = [00000001]原 = [00000001]反\n",
    "\n",
    "[-1] = [10000001]原 = [11111110]反\n",
    "\n",
    "三、补码\n",
    "\n",
    "补码的表示方法是：正数的补码就是其本身；负数的补码是在其原码的基础上, 符号位不变, 其余各位取反, 最后+1. \n",
    "\n",
    "负数的补码等于反码末位加1。\n",
    "\n",
    "X=-101011 , [X]原= 10101011 ，[X]反=11010100，[X]补=11010101\n",
    "\n",
    "[+1] = [00000001]原 = [00000001]反 = [00000001]补\n",
    "\n",
    "0的补码是唯一的，如果机器字长为8那么[0]补=00000000\n",
    "\n",
    "四、移码\n",
    "\n",
    "移码等于补码的符号（第一位数字）位取反。\n",
    "\n",
    "同一数值的移码与补码符号位相反，其它各位相同。\n",
    "\n",
    " \n",
    "\n",
    "原码中0有两种表示方式：[+0]原=0000000，[-0]原=1000000。\n",
    "在反码表示中，0也有两种表示形式：[+0]反=0000000，[-0]反=11111111。\n",
    "在补码表示中，0有唯一的编码：[+0]补=0000000，[-0]补=0000000。\n",
    "\n",
    "[-1] = [10000001]原 = [11111110]反 = [11111111]补。\n",
    "或者用这个思路：\n",
    "-1的补码 = 1的原码取反+1 = 00000001取反+1 = 11111110+1 = 11111111\n",
    "\n",
    "计算机中存储数据用的是补码，所以1和-1分别存储为:\n",
    "1：00000001\n",
    "-1:11111111\n",
    "\n",
    "但是，java中，int型是32位，所以1和-1分别是:\n",
    "1：00000000 00000000 00000000 00000001\n",
    "-1:11111111 11111111 11111111 11111111\n",
    "如果在java中写sout(0b11111111)显示的是255，而不是-1\n",
    "因为java中sout(0b11111111)是sout(0b00000000000000000000000011111111)，而不是sout(0b11111111111111111111111111111111)\n",
    " \n",
    "\n",
    "正数的原码，补码，反码相同；\n",
    "负数的反码：原码的数值取反；\n",
    "负数的补码：原码转换成反码，反码末位加1\n",
    "负数的移码：与补码的符号位（第一位数字）相反\n",
    "\n",
    "\n",
    "-1 = ~1+1 负数=正数的原码取反+1\n",
    "1的原码：\t00000000 00000000 00000000 00000001\n",
    "1的原码取反~1： 11111111 11111111 11111111 11111110\n",
    "~+1\t     ： 11111111 11111111 11111111 11111111\n",
    "~+1= -1      ： 11111111 11111111 11111111 11111111\n",
    "\n",
    "-2147483647在java中作为int表示为\n",
    "0b10000000000000000000000000000001\n",
    "这是-2147483647的补码，不是原码\n",
    "System.out.println(0b10000000000000000000000000000001);// -2147483647\n",
    "如何得到-2147483647的原码呢？可以用下面的方法：\n",
    "-2147483647的补码 = ~2147483647的原码+1，也就是-2147483647的补码=2147483647的原码取反+1，那么\n",
    "2147483647的原码= ~(-2147483647的补码-1) = ~(10000000000000000000000000000001-1)= 011111111111111111111111111111111\n",
    "那么-2147483647的原码 = -011111111111111111111111111111111 = 111111111111111111111111111111111，第一个1表示符号为负\n",
    "\n",
    "windows 10 自带的计算器表示整数用的是64位\n"
   ]
  },
  {
   "cell_type": "code",
   "execution_count": 63,
   "id": "b7d9c83e",
   "metadata": {},
   "outputs": [
    {
     "name": "stdout",
     "output_type": "stream",
     "text": [
      "25105\n",
      "我\n"
     ]
    }
   ],
   "source": [
    "# 试试下面的代码,为什么是汉字 我， 讲解utf-8编码原理\n",
    "a = 0b110001000010001\n",
    "print(a)\n",
    "print(chr(a))"
   ]
  },
  {
   "cell_type": "code",
   "execution_count": 68,
   "id": "189815d5",
   "metadata": {},
   "outputs": [],
   "source": [
    "# https://onlineutf8tools.com/convert-utf8-to-binary 将文字转换成utf-8码二进制\n",
    "# https://onlineutf8tools.com/convert-utf8-to-code-points 将文字转换成unicode码二进制"
   ]
  },
  {
   "cell_type": "code",
   "execution_count": null,
   "id": "8c2c95a9",
   "metadata": {},
   "outputs": [],
   "source": [
    "# utf-8编码规则：\n",
    "0XXX XXXX\n",
    "110XXXXX 10XXXXXX\n",
    "1110XXXX 10XXXXXX 10XXXXXX\n",
    "11110XXX 10XXXXXX 10XXXXXX 10XXXXXX"
   ]
  },
  {
   "cell_type": "code",
   "execution_count": 66,
   "id": "a7d04548",
   "metadata": {},
   "outputs": [],
   "source": [
    "# 作业：下面的utf-8编码解码成unicode码，看看结果是什么?\n",
    "# 111001001011110110100000111001101001100010101111111001111000110010101010"
   ]
  },
  {
   "cell_type": "code",
   "execution_count": 73,
   "id": "1f139c61",
   "metadata": {},
   "outputs": [
    {
     "name": "stdout",
     "output_type": "stream",
     "text": [
      "你\n",
      "是\n",
      "猪\n"
     ]
    }
   ],
   "source": [
    "# 参考答案\n",
    "# 100111101100000 (11100100 10111101 10100000)\n",
    "# 110011000101111 (11100110 10011000 10101111)\n",
    "# 111001100101010 (11100111 10001100 10101010)\n",
    "print(chr(0b100111101100000))\n",
    "print(chr(0b110011000101111))\n",
    "print(chr(0b111001100101010))"
   ]
  },
  {
   "cell_type": "code",
   "execution_count": null,
   "id": "48691532",
   "metadata": {},
   "outputs": [],
   "source": []
  }
 ],
 "metadata": {
  "kernelspec": {
   "display_name": "Python 3 (ipykernel)",
   "language": "python",
   "name": "python3"
  },
  "language_info": {
   "codemirror_mode": {
    "name": "ipython",
    "version": 3
   },
   "file_extension": ".py",
   "mimetype": "text/x-python",
   "name": "python",
   "nbconvert_exporter": "python",
   "pygments_lexer": "ipython3",
   "version": "3.9.13"
  }
 },
 "nbformat": 4,
 "nbformat_minor": 5
}
