{
 "cells": [
  {
   "cell_type": "code",
   "execution_count": 26,
   "id": "64c6426f",
   "metadata": {},
   "outputs": [],
   "source": [
    "# python编程软件下载：\n",
    "# 1 python下载地址: python.org/download\n",
    "# 2 pycharm下载地址 : jetbrains.com/pycharm/download 选择下载Community,这是免费版本."
   ]
  },
  {
   "cell_type": "code",
   "execution_count": 32,
   "id": "7f5eae99",
   "metadata": {},
   "outputs": [],
   "source": [
    "# 1 课程基本介绍：\n",
    "# 本课程讲解python基础知识，目的是学完本课程后能熟练编写python代码。\n",
    "# 了解面向对象与面向对象的区别"
   ]
  },
  {
   "cell_type": "code",
   "execution_count": null,
   "id": "a4b93c42",
   "metadata": {},
   "outputs": [],
   "source": []
  },
  {
   "cell_type": "markdown",
   "id": "10973779",
   "metadata": {},
   "source": [
    "# 通过第一行代码讲解pycharm的使用"
   ]
  },
  {
   "cell_type": "code",
   "execution_count": 34,
   "id": "6ecf2fe3",
   "metadata": {},
   "outputs": [
    {
     "name": "stdout",
     "output_type": "stream",
     "text": [
      "hello world\n"
     ]
    }
   ],
   "source": [
    "print('hello world')\n",
    "# 运行\n",
    "# 讲解pycharm的使用：字体调整，背景修改，窗口布局解释，修改console字体大小\n",
    "# 创建新工程运行"
   ]
  },
  {
   "cell_type": "code",
   "execution_count": 36,
   "id": "ca08a142",
   "metadata": {},
   "outputs": [],
   "source": [
    "# 学习编程三板斧： 基础 + 调试 + 搜索"
   ]
  },
  {
   "cell_type": "code",
   "execution_count": 38,
   "id": "2b19ce18",
   "metadata": {},
   "outputs": [
    {
     "name": "stdout",
     "output_type": "stream",
     "text": [
      "hello\n"
     ]
    },
    {
     "ename": "ZeroDivisionError",
     "evalue": "division by zero",
     "output_type": "error",
     "traceback": [
      "\u001b[1;31m---------------------------------------------------------------------------\u001b[0m",
      "\u001b[1;31mZeroDivisionError\u001b[0m                         Traceback (most recent call last)",
      "Cell \u001b[1;32mIn [38], line 3\u001b[0m\n\u001b[0;32m      1\u001b[0m \u001b[38;5;66;03m# 调试\u001b[39;00m\n\u001b[0;32m      2\u001b[0m \u001b[38;5;28mprint\u001b[39m(\u001b[38;5;124m'\u001b[39m\u001b[38;5;124mhello\u001b[39m\u001b[38;5;124m'\u001b[39m)\n\u001b[1;32m----> 3\u001b[0m \u001b[38;5;28mprint\u001b[39m(\u001b[38;5;241;43m1\u001b[39;49m\u001b[38;5;241;43m/\u001b[39;49m\u001b[38;5;241;43m0\u001b[39;49m)\n\u001b[0;32m      4\u001b[0m \u001b[38;5;28mprint\u001b[39m(\u001b[38;5;124m'\u001b[39m\u001b[38;5;124mworld\u001b[39m\u001b[38;5;124m'\u001b[39m)\n\u001b[0;32m      5\u001b[0m \u001b[38;5;66;03m# 运行后，找到错误代码，并解决bug\u001b[39;00m\n",
      "\u001b[1;31mZeroDivisionError\u001b[0m: division by zero"
     ]
    }
   ],
   "source": [
    "# 调试 1\n",
    "print('hello')\n",
    "print(1/0)\n",
    "print('world')\n",
    "# 运行后，找到错误代码，并解决bug"
   ]
  },
  {
   "cell_type": "code",
   "execution_count": 40,
   "id": "c45364a8",
   "metadata": {},
   "outputs": [
    {
     "name": "stdout",
     "output_type": "stream",
     "text": [
      "hello\n",
      "world\n",
      "helo\n",
      "hello\n",
      "hello\n"
     ]
    }
   ],
   "source": [
    "# 调试 2\n",
    "print('hello')\n",
    "print('world')\n",
    "print('helo')\n",
    "print('hello')\n",
    "print('hello')\n",
    "# 给这些代码添加断点，然后逐行调试，熟悉pycharm的调试功能，动手完成这个练习"
   ]
  },
  {
   "cell_type": "code",
   "execution_count": null,
   "id": "97ef2343",
   "metadata": {},
   "outputs": [],
   "source": []
  },
  {
   "cell_type": "markdown",
   "id": "d920a144",
   "metadata": {},
   "source": [
    "# python 基本数据类型，什么是变量，什么是常量"
   ]
  },
  {
   "cell_type": "code",
   "execution_count": 2,
   "id": "65527e64",
   "metadata": {},
   "outputs": [
    {
     "name": "stdout",
     "output_type": "stream",
     "text": [
      "1\n"
     ]
    }
   ],
   "source": [
    "# 整数类型\n",
    "print(1)"
   ]
  },
  {
   "cell_type": "code",
   "execution_count": 3,
   "id": "b2d92c26",
   "metadata": {},
   "outputs": [
    {
     "name": "stdout",
     "output_type": "stream",
     "text": [
      "<class 'int'>\n"
     ]
    }
   ],
   "source": [
    "print(type(1))"
   ]
  },
  {
   "cell_type": "code",
   "execution_count": 4,
   "id": "061ee8e7",
   "metadata": {},
   "outputs": [
    {
     "name": "stdout",
     "output_type": "stream",
     "text": [
      "2.5\n"
     ]
    }
   ],
   "source": [
    "# 浮点类型，就是小数\n",
    "print(2.5)"
   ]
  },
  {
   "cell_type": "code",
   "execution_count": 27,
   "id": "11f07988",
   "metadata": {},
   "outputs": [
    {
     "name": "stdout",
     "output_type": "stream",
     "text": [
      "<class 'float'>\n"
     ]
    }
   ],
   "source": [
    "print(type(2.5))"
   ]
  },
  {
   "cell_type": "code",
   "execution_count": 30,
   "id": "2a047a79",
   "metadata": {},
   "outputs": [],
   "source": [
    "#python是解释型的语言，代码从上往下执行，边解释边执行。\n",
    "# java是编译型的语言，先编译后执行。"
   ]
  },
  {
   "cell_type": "code",
   "execution_count": 31,
   "id": "c982c95c",
   "metadata": {},
   "outputs": [
    {
     "name": "stdout",
     "output_type": "stream",
     "text": [
      "hello world\n"
     ]
    }
   ],
   "source": []
  },
  {
   "cell_type": "code",
   "execution_count": 10,
   "id": "e028ff06",
   "metadata": {},
   "outputs": [],
   "source": [
    "# python的运算符 +-*/"
   ]
  },
  {
   "cell_type": "code",
   "execution_count": 21,
   "id": "531f219f",
   "metadata": {},
   "outputs": [],
   "source": [
    "a = 1\n",
    "b = 2.5\n",
    "c = 'hello'\n",
    "d = 'a'\n",
    "e = 'b'\n",
    "f = 'c'"
   ]
  },
  {
   "cell_type": "code",
   "execution_count": 22,
   "id": "5c4d2497",
   "metadata": {},
   "outputs": [
    {
     "name": "stdout",
     "output_type": "stream",
     "text": [
      "<class 'int'> <class 'float'> <class 'str'>\n"
     ]
    }
   ],
   "source": [
    "print(type(a), type(b), type(c))"
   ]
  },
  {
   "cell_type": "code",
   "execution_count": 13,
   "id": "e28e6a20",
   "metadata": {},
   "outputs": [
    {
     "name": "stdout",
     "output_type": "stream",
     "text": [
      "3.5\n"
     ]
    }
   ],
   "source": [
    "print(a + b)"
   ]
  },
  {
   "cell_type": "code",
   "execution_count": 16,
   "id": "efb00ce5",
   "metadata": {},
   "outputs": [
    {
     "ename": "TypeError",
     "evalue": "unsupported operand type(s) for +: 'int' and 'str'",
     "output_type": "error",
     "traceback": [
      "\u001b[1;31m---------------------------------------------------------------------------\u001b[0m",
      "\u001b[1;31mTypeError\u001b[0m                                 Traceback (most recent call last)",
      "Cell \u001b[1;32mIn [16], line 1\u001b[0m\n\u001b[1;32m----> 1\u001b[0m \u001b[38;5;28mprint\u001b[39m(\u001b[43ma\u001b[49m\u001b[43m \u001b[49m\u001b[38;5;241;43m+\u001b[39;49m\u001b[43m \u001b[49m\u001b[43mc\u001b[49m)\n",
      "\u001b[1;31mTypeError\u001b[0m: unsupported operand type(s) for +: 'int' and 'str'"
     ]
    }
   ],
   "source": [
    "print(a + c)"
   ]
  },
  {
   "cell_type": "code",
   "execution_count": 17,
   "id": "07b00d0b",
   "metadata": {},
   "outputs": [
    {
     "name": "stdout",
     "output_type": "stream",
     "text": [
      "1hello\n"
     ]
    }
   ],
   "source": [
    "print(str(a) + c)"
   ]
  },
  {
   "cell_type": "code",
   "execution_count": 15,
   "id": "38884421",
   "metadata": {},
   "outputs": [
    {
     "ename": "TypeError",
     "evalue": "unsupported operand type(s) for +: 'int' and 'str'",
     "output_type": "error",
     "traceback": [
      "\u001b[1;31m---------------------------------------------------------------------------\u001b[0m",
      "\u001b[1;31mTypeError\u001b[0m                                 Traceback (most recent call last)",
      "Cell \u001b[1;32mIn [15], line 1\u001b[0m\n\u001b[1;32m----> 1\u001b[0m \u001b[38;5;28mprint\u001b[39m(\u001b[43ma\u001b[49m\u001b[43m \u001b[49m\u001b[38;5;241;43m+\u001b[39;49m\u001b[43m \u001b[49m\u001b[43md\u001b[49m)\n",
      "\u001b[1;31mTypeError\u001b[0m: unsupported operand type(s) for +: 'int' and 'str'"
     ]
    }
   ],
   "source": [
    "print(a + d)"
   ]
  },
  {
   "cell_type": "code",
   "execution_count": 18,
   "id": "cce376bd",
   "metadata": {},
   "outputs": [
    {
     "name": "stdout",
     "output_type": "stream",
     "text": [
      "helloa\n"
     ]
    }
   ],
   "source": [
    "print(c + d)"
   ]
  },
  {
   "cell_type": "code",
   "execution_count": 19,
   "id": "2dad0461",
   "metadata": {},
   "outputs": [
    {
     "name": "stdout",
     "output_type": "stream",
     "text": [
      "1 2.5 hello a b c\n"
     ]
    }
   ],
   "source": [
    "print(a , b, c, d, e, f)"
   ]
  },
  {
   "cell_type": "code",
   "execution_count": 20,
   "id": "bf270b8e",
   "metadata": {},
   "outputs": [
    {
     "ename": "TypeError",
     "evalue": "unsupported operand type(s) for +: 'int' and 'str'",
     "output_type": "error",
     "traceback": [
      "\u001b[1;31m---------------------------------------------------------------------------\u001b[0m",
      "\u001b[1;31mTypeError\u001b[0m                                 Traceback (most recent call last)",
      "Cell \u001b[1;32mIn [20], line 1\u001b[0m\n\u001b[1;32m----> 1\u001b[0m \u001b[38;5;28mprint\u001b[39m(\u001b[43ma\u001b[49m\u001b[43m \u001b[49m\u001b[38;5;241;43m+\u001b[39;49m\u001b[43m \u001b[49m\u001b[43md\u001b[49m)\n",
      "\u001b[1;31mTypeError\u001b[0m: unsupported operand type(s) for +: 'int' and 'str'"
     ]
    }
   ],
   "source": [
    "print(a + d)"
   ]
  },
  {
   "cell_type": "code",
   "execution_count": 23,
   "id": "d6d95888",
   "metadata": {},
   "outputs": [
    {
     "name": "stdout",
     "output_type": "stream",
     "text": [
      "97\n"
     ]
    }
   ],
   "source": [
    "print(ord(d))"
   ]
  },
  {
   "cell_type": "code",
   "execution_count": 24,
   "id": "d441042a",
   "metadata": {},
   "outputs": [
    {
     "ename": "TypeError",
     "evalue": "ord() expected a character, but string of length 5 found",
     "output_type": "error",
     "traceback": [
      "\u001b[1;31m---------------------------------------------------------------------------\u001b[0m",
      "\u001b[1;31mTypeError\u001b[0m                                 Traceback (most recent call last)",
      "Cell \u001b[1;32mIn [24], line 1\u001b[0m\n\u001b[1;32m----> 1\u001b[0m \u001b[38;5;28mprint\u001b[39m(\u001b[38;5;28;43mord\u001b[39;49m\u001b[43m(\u001b[49m\u001b[43mc\u001b[49m\u001b[43m)\u001b[49m)\n",
      "\u001b[1;31mTypeError\u001b[0m: ord() expected a character, but string of length 5 found"
     ]
    }
   ],
   "source": [
    "print(ord(c))"
   ]
  },
  {
   "cell_type": "code",
   "execution_count": 41,
   "id": "e6baf5c8",
   "metadata": {},
   "outputs": [
    {
     "name": "stdout",
     "output_type": "stream",
     "text": [
      "97 98 99\n"
     ]
    }
   ],
   "source": [
    "print(ord(d), ord(e), ord(f))"
   ]
  },
  {
   "cell_type": "code",
   "execution_count": 42,
   "id": "4b30ca0f",
   "metadata": {},
   "outputs": [],
   "source": [
    "# 作业{5分钟内完成]：\n",
    "a = 1\n",
    "b = 2.5\n",
    "# c = 'hello'\n",
    "d = 'a'\n",
    "e = 'b'\n",
    "f = 'c'\n",
    "# 分别查看a,b,c,d,e,f的数据类型\n",
    "# 运行代码，如果有bug，注释掉错误代码，并且翻译英文的错误提示。\n",
    "# 将a转换成float\n",
    "# 将a转换成str\n",
    "# 将d,e,f转换成整数，提示：使用ord函数。 看看这三个数转换成整数有什么规律？ \n",
    "g = 'e'\n",
    "# 猜猜g转换成整数，是多少?"
   ]
  }
 ],
 "metadata": {
  "kernelspec": {
   "display_name": "Python 3 (ipykernel)",
   "language": "python",
   "name": "python3"
  },
  "language_info": {
   "codemirror_mode": {
    "name": "ipython",
    "version": 3
   },
   "file_extension": ".py",
   "mimetype": "text/x-python",
   "name": "python",
   "nbconvert_exporter": "python",
   "pygments_lexer": "ipython3",
   "version": "3.9.13"
  }
 },
 "nbformat": 4,
 "nbformat_minor": 5
}
